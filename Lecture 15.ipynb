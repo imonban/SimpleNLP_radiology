{
 "cells": [
  {
   "cell_type": "markdown",
   "metadata": {},
   "source": [
    "## Extracting data from radiology reports - anatomy"
   ]
  },
  {
   "cell_type": "code",
   "execution_count": 139,
   "metadata": {},
   "outputs": [],
   "source": [
    "import pandas as pd"
   ]
  },
  {
   "cell_type": "markdown",
   "metadata": {},
   "source": [
    "### Read vocabulary"
   ]
  },
  {
   "cell_type": "code",
   "execution_count": 117,
   "metadata": {},
   "outputs": [],
   "source": [
    "onto_path = './Ontology/'"
   ]
  },
  {
   "cell_type": "code",
   "execution_count": 118,
   "metadata": {},
   "outputs": [],
   "source": [
    "df_FMA = pd.read_csv(onto_path+'FMA_mod.csv')\n",
    "df_FMA = df_FMA.fillna('null')"
   ]
  },
  {
   "cell_type": "code",
   "execution_count": 119,
   "metadata": {},
   "outputs": [],
   "source": [
    "FMAwordMap = {}\n",
    "FMADterms = []\n",
    "FMACterms = []\n",
    "for i in range(df_FMA.shape[0]):\n",
    "    current_entry = df_FMA.iloc[i]\n",
    "    prefname = current_entry['Preferred Label']\n",
    "    prefname = prefname.replace(\" \", \"_\")\n",
    "    if(current_entry['Synonyms']!= 'null'):\n",
    "        Sysplit = current_entry['Synonyms'].split('|')\n",
    "        for k in range(len(Sysplit)):\n",
    "            FMAwordMap[' ' + Sysplit[k].lower() + ' '] = ' ' + prefname + ' '\n",
    "            FMADterms.append(' ' + Sysplit[k].lower() + ' ')\n",
    "    else:\n",
    "        prefnameSlip = prefname.replace(\"_\", \" \")\n",
    "        FMAwordMap[' ' + prefnameSlip.lower() + ' '] = ' ' + prefname + ' '\n",
    "        FMADterms.append(' ' + prefnameSlip.lower() + ' ')"
   ]
  },
  {
   "cell_type": "code",
   "execution_count": 120,
   "metadata": {},
   "outputs": [],
   "source": [
    "def cstr(s, color='black'):\n",
    "    return \"<text style=color:{}>{}</text>\".format(color, s)"
   ]
  },
  {
   "cell_type": "markdown",
   "metadata": {},
   "source": [
    "## Radiology report as text"
   ]
  },
  {
   "cell_type": "code",
   "execution_count": 121,
   "metadata": {},
   "outputs": [],
   "source": [
    "Radiology_report = \"CT Abdomen with contrast, Triphasic Liver Protocol INDICATION: Hepatocellular carcinoma. History of alcoholic cirrhosis status post TIPS placement. COMPARISON: 4/10/2013 TECHNIQUE: After IV administration of 86 ml of Isovue 370, helical CT imaging of the abdomen was performed axially during the arterial, portal venous, and delayed phases. Coronal and sagittal reformatted images were reviewed. Based on a 32-cm body phantom, the estimated radiation dose (CTDIvol [mGy]) for each series in this exam are: 1.99, 11.95, 6.47, 6.43, 6.50. The estimated cumulative dose (DLP [mGy-cm]) is: 512. NOTE: The radiation dose indicators for CT -- the 'volume CT Dose Index' (CTDIvol) given in milli-Gray (mGy), and the Dose Length Product (DLP) given in mGy-centimeters (mGy.cm) -- are generated from the CT scanner to estimate radiation exposure based on technical study parameters and a reference phantom. The CTDI and DLP may therefore substantially over- or underestimate an individual's absorbed dose based on patient size and other factors.  FINDINGS: Lung bases are clear. Heart size is normal. No pleural or pericardial effusion. ABDOMEN: Hepatic morphology suggestive of cirrhosis is again demonstrated, including hypertrophy of the lateral segment, widening of the fissures, mildly nodular hepatic contour, and corkscrew appearance of the hepatic arteries. Multiple small hypervascular hepatic lesions with associated delayed washout appear essentially unchanged and again are diagnostic of hepatocellular carcinoma in this context. Lesions include the following: 10-mm segment 7 lesion (5:76)9 mm segment 8 lesion (5:64)8-mm segment 2 lesion (5:75)7-mm segment 4a lesion (5:47) The following two lesions do not as clearly exhibit washout, likely due to their small size. They are therefore nonspecific but remain concerning.5-mm segment 5 lesion (5:99)5-mm segment 1 lesion (5:64) There is no evidence of vascular invasion by any of these tumors. The TIPS extending from the distal main portal vein, right portal vein, and right hepatic vein appears widely patent. Major hepatic vasculature appears patent. Accessory left hepatic artery is again demonstrated. The gallbladder has been removed. The spleen, pancreas, adrenal glands, and kidneys appear normal. Imaged portions of small and large bowel appear normal. The abdominal aorta is normal in course and caliber. Major abdominal vasculature is patent. No abdominal lymphadenopathy. No ascites. No free intraperitoneal air. No aggressive osseous lesion is identified in the abdomen. IMPRESSION: 1. ESSENTIALLY UNCHANGED APPEARANCE OF 4 SMALL (8-10 MM) HCC LESIONS AS DETAILED. TWO SMALLER ENHANCING LESIONS ARE ALSO CONCERNING BUT NONSPECIFIC AS THEY DO NOT AS CLEARLY EXHIBIT WASHOUT, LIKELY DUE TO THEIR SMALL SIZE. 2. HEPATIC MORPHOLOGY SUGGESTIVE OF CIRRHOSIS.  SUMMARY:4-POSSIBLY SIGNIFICANT FINDING, MAY NEED ACTIONI have personally reviewed the images for this examination and agreedwith the report transcribed above.\""
   ]
  },
  {
   "cell_type": "code",
   "execution_count": 122,
   "metadata": {},
   "outputs": [
    {
     "data": {
      "text/html": [
       "CT Abdomen with contrast, Triphasic Liver Protocol INDICATION: Hepatocellular carcinoma. History of alcoholic cirrhosis status post TIPS placement. COMPARISON: 4/10/2013 TECHNIQUE: After IV administration of 86 ml of Isovue 370, helical CT imaging of the abdomen was performed axially during the arterial, portal venous, and delayed phases. Coronal and sagittal reformatted images were reviewed. Based on a 32-cm body phantom, the estimated radiation dose (CTDIvol [mGy]) for each series in this exam are: 1.99, 11.95, 6.47, 6.43, 6.50. The estimated cumulative dose (DLP [mGy-cm]) is: 512. NOTE: The radiation dose indicators for CT -- the 'volume CT Dose Index' (CTDIvol) given in milli-Gray (mGy), and the Dose Length Product (DLP) given in mGy-centimeters (mGy.cm) -- are generated from the CT scanner to estimate radiation exposure based on technical study parameters and a reference phantom. The CTDI and DLP may therefore substantially over- or underestimate an individual's absorbed dose based on patient size and other factors.  FINDINGS: Lung bases are clear. Heart size is normal. No pleural or pericardial effusion. ABDOMEN: Hepatic morphology suggestive of cirrhosis is again demonstrated, including hypertrophy of the lateral segment, widening of the fissures, mildly nodular hepatic contour, and corkscrew appearance of the hepatic arteries. Multiple small hypervascular hepatic lesions with associated delayed washout appear essentially unchanged and again are diagnostic of hepatocellular carcinoma in this context. Lesions include the following: 10-mm segment 7 lesion (5:76)9 mm segment 8 lesion (5:64)8-mm segment 2 lesion (5:75)7-mm segment 4a lesion (5:47) The following two lesions do not as clearly exhibit washout, likely due to their small size. They are therefore nonspecific but remain concerning.5-mm segment 5 lesion (5:99)5-mm segment 1 lesion (5:64) There is no evidence of vascular invasion by any of these tumors. The TIPS extending from the distal main portal vein, right portal vein, and right hepatic vein appears widely patent. Major hepatic vasculature appears patent. Accessory left hepatic artery is again demonstrated. The gallbladder has been removed. The spleen, pancreas, adrenal glands, and kidneys appear normal. Imaged portions of small and large bowel appear normal. The abdominal aorta is normal in course and caliber. Major abdominal vasculature is patent. No abdominal lymphadenopathy. No ascites. No free intraperitoneal air. No aggressive osseous lesion is identified in the abdomen. IMPRESSION: 1. ESSENTIALLY UNCHANGED APPEARANCE OF 4 SMALL (8-10 MM) HCC LESIONS AS DETAILED. TWO SMALLER ENHANCING LESIONS ARE ALSO CONCERNING BUT NONSPECIFIC AS THEY DO NOT AS CLEARLY EXHIBIT WASHOUT, LIKELY DUE TO THEIR SMALL SIZE. 2. HEPATIC MORPHOLOGY SUGGESTIVE OF CIRRHOSIS.  SUMMARY:4-POSSIBLY SIGNIFICANT FINDING, MAY NEED ACTIONI have personally reviewed the images for this examination and agreedwith the report transcribed above."
      ],
      "text/plain": [
       "<IPython.core.display.HTML object>"
      ]
     },
     "execution_count": 122,
     "metadata": {},
     "output_type": "execute_result"
    }
   ],
   "source": [
    "html_print(Radiology_report)"
   ]
  },
  {
   "cell_type": "code",
   "execution_count": 140,
   "metadata": {},
   "outputs": [],
   "source": [
    "from IPython.display import HTML as html_print\n",
    "\n",
    "report_mod = Radiology_report.lower()\n",
    "for term in FMADterms: \n",
    "    if term in report_mod:\n",
    "        report_mod = report_mod.replace(term , cstr(term.rstrip(' ') +'|FMA ', color='red'))"
   ]
  },
  {
   "cell_type": "code",
   "execution_count": 141,
   "metadata": {},
   "outputs": [
    {
     "data": {
      "text/html": [
       "ct abdomen with contrast, triphasic<text style=color:red> liver|FMA </text>protocol indication: hepatocellular carcinoma. history of alcoholic cirrhosis status post tips placement. comparison: 4/10/2013 technique: after iv administration of 86 ml of isovue 370, helical ct imaging of the abdomen was performed axially during the arterial, portal venous, and delayed phases.<text style=color:red> coronal|FMA </text>and<text style=color:red> sagittal|FMA </text>reformatted images were reviewed. based on a 32-cm<text style=color:red> body|FMA </text>phantom, the estimated radiation dose (ctdivol [mgy]) for each series in this exam are: 1.99, 11.95, 6.47, 6.43, 6.50. the estimated cumulative dose (dlp [mgy-cm]) is: 512. note: the radiation dose indicators for ct -- the 'volume ct dose index' (ctdivol) given in milli-gray (mgy), and the dose length product (dlp) given in mgy-centimeters (mgy.cm) -- are generated from the ct scanner to estimate radiation exposure based on technical study parameters and a reference phantom. the ctdi and dlp may therefore substantially over- or underestimate an individual's absorbed dose based on patient size and other factors.  findings:<text style=color:red> lung|FMA </text>bases are clear.<text style=color:red> heart|FMA </text>size is normal. no pleural or pericardial effusion. abdomen: hepatic morphology suggestive of cirrhosis is again demonstrated, including hypertrophy of the lateral segment, widening of the fissures, mildly nodular hepatic contour, and corkscrew appearance of the hepatic arteries. multiple small hypervascular hepatic lesions with associated delayed washout appear essentially unchanged and again are diagnostic of hepatocellular carcinoma in this context. lesions include the following: 10-mm segment 7 lesion (5:76)9 mm segment 8 lesion (5:64)8-mm segment 2 lesion (5:75)7-mm segment 4a lesion (5:47) the following two lesions do not as clearly exhibit washout, likely due to their small size. they are therefore nonspecific but remain concerning.5-mm segment 5 lesion (5:99)5-mm segment 1 lesion (5:64) there is no evidence of vascular invasion by any of these tumors. the tips extending from the distal main portal vein, right portal vein, and<text style=color:red> right hepatic vein|FMA </text>appears widely patent. major<text style=color:red> hepatic vasculature|FMA </text>appears patent. accessory left<text style=color:red> hepatic artery|FMA </text>is again demonstrated. the gallbladder has been removed. the spleen, pancreas, adrenal glands, and kidneys appear normal. imaged portions of small and large<text style=color:red> bowel|FMA </text>appear normal. the abdominal aorta is normal in course and caliber. major<text style=color:red> abdominal vasculature|FMA </text>is patent. no abdominal lymphadenopathy. no ascites. no free intraperitoneal air. no aggressive osseous lesion is identified in the abdomen. impression: 1. essentially unchanged appearance of 4 small (8-10 mm) hcc lesions as detailed. two smaller enhancing lesions are also concerning but nonspecific as they do not as clearly exhibit washout, likely due to their small size. 2. hepatic morphology suggestive of cirrhosis.  summary:4-possibly significant finding, may need actioni have personally reviewed the images for this examination and agreedwith the report transcribed above."
      ],
      "text/plain": [
       "<IPython.core.display.HTML object>"
      ]
     },
     "execution_count": 141,
     "metadata": {},
     "output_type": "execute_result"
    }
   ],
   "source": [
    "html_print(report_mod)"
   ]
  },
  {
   "cell_type": "markdown",
   "metadata": {},
   "source": [
    "## Extracting data from DICOM header"
   ]
  },
  {
   "cell_type": "code",
   "execution_count": 60,
   "metadata": {},
   "outputs": [],
   "source": [
    "def myprint(dataset, indent=0):\n",
    "    \"\"\"Go through all items in the dataset and print them with custom format\n",
    "\n",
    "    Modelled after Dataset._pretty_str()\n",
    "    \"\"\"\n",
    "    dont_print = ['Pixel Data', 'File Meta Information Version']\n",
    "\n",
    "    indent_string = \"   \" * indent\n",
    "    next_indent_string = \"   \" * (indent + 1)\n",
    "\n",
    "    for data_element in dataset:\n",
    "        if data_element.VR == \"SQ\":   # a sequence\n",
    "            print(indent_string, data_element.name)\n",
    "            for sequence_item in data_element.value:\n",
    "                myprint(sequence_item, indent + 1)\n",
    "                print(next_indent_string + \"---------\")\n",
    "        else:\n",
    "            if data_element.name in dont_print:\n",
    "                print(\"\"\"<item not printed -- in the \"don't print\" list>\"\"\")\n",
    "            else:\n",
    "                repr_value = repr(data_element.value)\n",
    "                if len(repr_value) > 50:\n",
    "                    repr_value = repr_value[:50] + \"...\"\n",
    "                print(\"{0:s} {1:s} = {2:s}\".format(indent_string,\n",
    "                                                   data_element.name,\n",
    "                                                   repr_value))\n"
   ]
  },
  {
   "cell_type": "code",
   "execution_count": 61,
   "metadata": {},
   "outputs": [
    {
     "name": "stdout",
     "output_type": "stream",
     "text": [
      " Specific Character Set = 'ISO_IR 100'\n",
      " Image Type = ['ORIGINAL', 'PRIMARY', 'OTHER']\n",
      " SOP Class UID = '1.2.840.10008.5.1.4.1.1.4'\n",
      " SOP Instance UID = '1.3.6.1.4.1.14519.5.2.1.1706.4001.279933547068626...\n",
      " Study Date = '19970608'\n",
      " Series Date = '19970608'\n",
      " Acquisition Date = '19970608'\n",
      " Content Date = '19970608'\n",
      " Study Time = '090647'\n",
      " Series Time = '104416'\n",
      " Acquisition Time = '104418'\n",
      " Content Time = '104418'\n",
      " Accession Number = '2819497684894126'\n",
      " Modality = 'MR'\n",
      " Manufacturer = 'GE MEDICAL SYSTEMS'\n",
      " Referring Physician's Name = ' '\n",
      " Station Name = ''\n",
      " Study Description = 'MRI, BRAIN W&W/O CONTRAMR'\n",
      " Procedure Code Sequence\n",
      "    Code Value = '6500477'\n",
      "    Code Meaning = 'MRI, BRAIN W&W/O CONTRAST'\n",
      "   ---------\n",
      " Series Description = '2D WAND T2 WEIGHTED'\n",
      " Manufacturer's Model Name = 'GENESIS_SIGNA'\n",
      " Patient's Name = ' '\n",
      " Patient ID = 'TCGA-02-0003'\n",
      " Patient's Birth Date = ''\n",
      " Patient's Sex = 'M'\n",
      " Patient's Age = '050Y'\n",
      " Patient's Weight = \"99.790000\"\n",
      " Additional Patient History = 'L-TEMPOROPARIETAL TUMOR\\n'\n",
      " Patient Identity Removed = 'YES'\n",
      " De-identification Method = 'DCM:113100/113105/113107/113108/113109/113111'\n",
      " Private Creator = 'CTP'\n",
      " Private tag data = b'TCGA-GBM'\n",
      " Private tag data = b'17064001'\n",
      " Contrast/Bolus Agent = '20ml  GAD'\n",
      " Body Part Examined = 'BRAIN'\n",
      " Scanning Sequence = 'SE'\n",
      " Sequence Variant = 'SK'\n",
      " Scan Options = 'FAST_GEMS'\n",
      " MR Acquisition Type = '2D'\n",
      " Angio Flag = 'N'\n",
      " Slice Thickness = \"2.000000\"\n",
      " Repetition Time = \"5800.000000\"\n",
      " Echo Time = \"112.000000\"\n",
      " Number of Averages = \"1.000000\"\n",
      " Imaging Frequency = \"638685490.00000\"\n",
      " Imaged Nucleus = 'H1'\n",
      " Echo Number(s) = \"1\"\n",
      " Magnetic Field Strength = \"15000\"\n",
      " Spacing Between Slices = \"2.000000\"\n",
      " Echo Train Length = \"8\"\n",
      " Percent Sampling = \"100.000000\"\n",
      " Percent Phase Field of View = \"100.000000\"\n",
      " Pixel Bandwidth = \"125.000000\"\n",
      " Device Serial Number = '000000000330833'\n",
      " Software Version(s) = '08'\n",
      " Contrast/Bolus Route = 'IV'\n",
      " Spatial Resolution = \"1.562500\"\n",
      " Heart Rate = \"0\"\n",
      " Cardiac Number of Images = \"0\"\n",
      " Trigger Window = \"0\"\n",
      " Reconstruction Diameter = \"250.000000\"\n",
      " Receive Coil Name = 'HiRes Brain PA'\n",
      " Acquisition Matrix = [0, 256, 160, 0]\n",
      " In-plane Phase Encoding Direction = 'ROW'\n",
      " Flip Angle = \"90\"\n",
      " Variable Flip Angle Flag = 'N'\n",
      " SAR = \"1.884239\"\n",
      " Patient Position = 'HFS'\n",
      " Private tag data = \"0.000000\"\n",
      " Private tag data = \"0.000000\"\n",
      " Private tag data = \"0.000000\"\n",
      " Study Instance UID = '1.3.6.1.4.1.14519.5.2.1.1706.4001.145725991542758...\n",
      " Series Instance UID = '1.3.6.1.4.1.14519.5.2.1.1706.4001.240348717655601...\n",
      " Study ID = ''\n",
      " Series Number = \"17\"\n",
      " Acquisition Number = \"0\"\n",
      " Instance Number = \"66\"\n",
      " Image Position (Patient) = ['-125.000000', '-153.399994', '55.299999']\n",
      " Image Orientation (Patient) = ['1.000000', '0.000000', '0.000000', '0.000000', '...\n",
      " Frame of Reference UID = '1.3.6.1.4.1.14519.5.2.1.1706.4001.286967510984756...\n",
      " Laterality = ''\n",
      " Temporal Resolution = \"0\"\n",
      " Position Reference Indicator = 'NA'\n",
      " Slice Location = \"55.2999992371\"\n",
      " Private tag data = 0\n",
      " Samples per Pixel = 1\n",
      " Photometric Interpretation = 'MONOCHROME2'\n",
      " Rows = 256\n",
      " Columns = 256\n",
      " Pixel Spacing = ['0.976562', '0.976562']\n",
      " Bits Allocated = 16\n",
      " Bits Stored = 16\n",
      " High Bit = 15\n",
      " Pixel Representation = 1\n",
      " Pixel Padding Value = 0\n",
      " Longitudinal Temporal Information Modified = 'MODIFIED'\n",
      " Window Center = \"1000\"\n",
      " Window Width = \"2001\"\n",
      " Placer Order Number / Imaging Service Request = ''\n",
      " Filler Order Number / Imaging Service Request = ''\n",
      " Verifying Observer Name = 'Removed by CTP'\n",
      " Person Name = 'Removed by CTP'\n",
      " Private tag data = ['0', '0', '0', '0']\n",
      " Content Creator's Name = ' '\n",
      "<item not printed -- in the \"don't print\" list>\n"
     ]
    }
   ],
   "source": [
    "ds = pydicom.dcmread('./Data/t2/000000.dcm')\n",
    "\n",
    "myprint(ds)"
   ]
  },
  {
   "cell_type": "markdown",
   "metadata": {},
   "source": [
    "## Parts of speach tagging"
   ]
  },
  {
   "cell_type": "code",
   "execution_count": 62,
   "metadata": {},
   "outputs": [],
   "source": [
    "import nltk\n",
    "\n",
    "text = 'there are tiny mediastinal lymph nodes measuring up to 0.1 mm with no mediastinal adenopathy'\n"
   ]
  },
  {
   "cell_type": "code",
   "execution_count": 63,
   "metadata": {},
   "outputs": [],
   "source": [
    "def tag_noun_adjtive(text):\n",
    "    text = nltk.word_tokenize(text)\n",
    "    result = nltk.pos_tag(text)\n",
    "    adjective_tags = [\"JJ\", \"JJR\", \"JJS\"]\n",
    "    noun_tags = ['NN', 'NNS']\n",
    "    adjective = []\n",
    "    noun = []\n",
    "    for a in result: \n",
    "        if a[1] in adjective_tags:\n",
    "            adjective.append(a[0])\n",
    "        if a[1] in noun_tags:\n",
    "            noun.append(a[0])\n",
    "    return adjective, noun"
   ]
  },
  {
   "cell_type": "code",
   "execution_count": 64,
   "metadata": {},
   "outputs": [
    {
     "data": {
      "text/plain": [
       "(['tiny', 'mediastinal', 'mediastinal'],\n",
       " ['lymph', 'nodes', 'mm', 'adenopathy'])"
      ]
     },
     "execution_count": 64,
     "metadata": {},
     "output_type": "execute_result"
    }
   ],
   "source": [
    "tag_noun_adjtive(text)"
   ]
  },
  {
   "cell_type": "markdown",
   "metadata": {},
   "source": [
    "## Steming, stop words, and punctuations removal"
   ]
  },
  {
   "cell_type": "code",
   "execution_count": 66,
   "metadata": {},
   "outputs": [
    {
     "data": {
      "text/plain": [
       "\"CT Abdomen with contrast, Triphasic Liver Protocol INDICATION: Hepatocellular carcinoma. History of alcoholic cirrhosis status post TIPS placement. COMPARISON: 4/10/2013 TECHNIQUE: After IV administration of 86 ml of Isovue 370, helical CT imaging of the abdomen was performed axially during the arterial, portal venous, and delayed phases. Coronal and sagittal reformatted images were reviewed. Based on a 32-cm body phantom, the estimated radiation dose (CTDIvol [mGy]) for each series in this exam are: 1.99, 11.95, 6.47, 6.43, 6.50. The estimated cumulative dose (DLP [mGy-cm]) is: 512. NOTE: The radiation dose indicators for CT -- the 'volume CT Dose Index' (CTDIvol) given in milli-Gray (mGy), and the Dose Length Product (DLP) given in mGy-centimeters (mGy.cm) -- are generated from the CT scanner to estimate radiation exposure based on technical study parameters and a reference phantom. The CTDI and DLP may therefore substantially over- or underestimate an individual's absorbed dose based on patient size and other factors.  FINDINGS: Lung bases are clear. Heart size is normal. No pleural or pericardial effusion. ABDOMEN: Hepatic morphology suggestive of cirrhosis is again demonstrated, including hypertrophy of the lateral segment, widening of the fissures, mildly nodular hepatic contour, and corkscrew appearance of the hepatic arteries. Multiple small hypervascular hepatic lesions with associated delayed washout appear essentially unchanged and again are diagnostic of hepatocellular carcinoma in this context. Lesions include the following: 10-mm segment 7 lesion (5:76)9 mm segment 8 lesion (5:64)8-mm segment 2 lesion (5:75)7-mm segment 4a lesion (5:47) The following two lesions do not as clearly exhibit washout, likely due to their small size. They are therefore nonspecific but remain concerning.5-mm segment 5 lesion (5:99)5-mm segment 1 lesion (5:64) There is no evidence of vascular invasion by any of these tumors. The TIPS extending from the distal main portal vein, right portal vein, and right hepatic vein appears widely patent. Major hepatic vasculature appears patent. Accessory left hepatic artery is again demonstrated. The gallbladder has been removed. The spleen, pancreas, adrenal glands, and kidneys appear normal. Imaged portions of small and large bowel appear normal. The abdominal aorta is normal in course and caliber. Major abdominal vasculature is patent. No abdominal lymphadenopathy. No ascites. No free intraperitoneal air. No aggressive osseous lesion is identified in the abdomen. IMPRESSION: 1. ESSENTIALLY UNCHANGED APPEARANCE OF 4 SMALL (8-10 MM) HCC LESIONS AS DETAILED. TWO SMALLER ENHANCING LESIONS ARE ALSO CONCERNING BUT NONSPECIFIC AS THEY DO NOT AS CLEARLY EXHIBIT WASHOUT, LIKELY DUE TO THEIR SMALL SIZE. 2. HEPATIC MORPHOLOGY SUGGESTIVE OF CIRRHOSIS.  SUMMARY:4-POSSIBLY SIGNIFICANT FINDING, MAY NEED ACTIONI have personally reviewed the images for this examination and agreedwith the report transcribed above.\""
      ]
     },
     "execution_count": 66,
     "metadata": {},
     "output_type": "execute_result"
    }
   ],
   "source": [
    "Radiology_report"
   ]
  },
  {
   "cell_type": "markdown",
   "metadata": {},
   "source": [
    "## length of the original report in words"
   ]
  },
  {
   "cell_type": "code",
   "execution_count": 68,
   "metadata": {},
   "outputs": [
    {
     "data": {
      "text/plain": [
       "2979"
      ]
     },
     "execution_count": 68,
     "metadata": {},
     "output_type": "execute_result"
    }
   ],
   "source": [
    "len(Radiology_report)"
   ]
  },
  {
   "cell_type": "markdown",
   "metadata": {},
   "source": [
    "## stop words"
   ]
  },
  {
   "cell_type": "code",
   "execution_count": 49,
   "metadata": {},
   "outputs": [
    {
     "data": {
      "text/plain": [
       "['i',\n",
       " 'me',\n",
       " 'my',\n",
       " 'myself',\n",
       " 'we',\n",
       " 'our',\n",
       " 'ours',\n",
       " 'ourselves',\n",
       " 'you',\n",
       " \"you're\",\n",
       " \"you've\",\n",
       " \"you'll\",\n",
       " \"you'd\",\n",
       " 'your',\n",
       " 'yours',\n",
       " 'yourself',\n",
       " 'yourselves',\n",
       " 'he',\n",
       " 'him',\n",
       " 'his',\n",
       " 'himself',\n",
       " 'she',\n",
       " \"she's\",\n",
       " 'her',\n",
       " 'hers',\n",
       " 'herself',\n",
       " 'it',\n",
       " \"it's\",\n",
       " 'its',\n",
       " 'itself',\n",
       " 'they',\n",
       " 'them',\n",
       " 'their',\n",
       " 'theirs',\n",
       " 'themselves',\n",
       " 'what',\n",
       " 'which',\n",
       " 'who',\n",
       " 'whom',\n",
       " 'this',\n",
       " 'that',\n",
       " \"that'll\",\n",
       " 'these',\n",
       " 'those',\n",
       " 'am',\n",
       " 'is',\n",
       " 'are',\n",
       " 'was',\n",
       " 'were',\n",
       " 'be',\n",
       " 'been',\n",
       " 'being',\n",
       " 'have',\n",
       " 'has',\n",
       " 'had',\n",
       " 'having',\n",
       " 'do',\n",
       " 'does',\n",
       " 'did',\n",
       " 'doing',\n",
       " 'a',\n",
       " 'an',\n",
       " 'the',\n",
       " 'and',\n",
       " 'but',\n",
       " 'if',\n",
       " 'or',\n",
       " 'because',\n",
       " 'as',\n",
       " 'until',\n",
       " 'while',\n",
       " 'of',\n",
       " 'at',\n",
       " 'by',\n",
       " 'for',\n",
       " 'with',\n",
       " 'about',\n",
       " 'against',\n",
       " 'between',\n",
       " 'into',\n",
       " 'through',\n",
       " 'during',\n",
       " 'before',\n",
       " 'after',\n",
       " 'above',\n",
       " 'below',\n",
       " 'to',\n",
       " 'from',\n",
       " 'up',\n",
       " 'down',\n",
       " 'in',\n",
       " 'out',\n",
       " 'on',\n",
       " 'off',\n",
       " 'over',\n",
       " 'under',\n",
       " 'again',\n",
       " 'further',\n",
       " 'then',\n",
       " 'once',\n",
       " 'here',\n",
       " 'there',\n",
       " 'when',\n",
       " 'where',\n",
       " 'why',\n",
       " 'how',\n",
       " 'all',\n",
       " 'any',\n",
       " 'both',\n",
       " 'each',\n",
       " 'few',\n",
       " 'more',\n",
       " 'most',\n",
       " 'other',\n",
       " 'some',\n",
       " 'such',\n",
       " 'no',\n",
       " 'nor',\n",
       " 'not',\n",
       " 'only',\n",
       " 'own',\n",
       " 'same',\n",
       " 'so',\n",
       " 'than',\n",
       " 'too',\n",
       " 'very',\n",
       " 's',\n",
       " 't',\n",
       " 'can',\n",
       " 'will',\n",
       " 'just',\n",
       " 'don',\n",
       " \"don't\",\n",
       " 'should',\n",
       " \"should've\",\n",
       " 'now',\n",
       " 'd',\n",
       " 'll',\n",
       " 'm',\n",
       " 'o',\n",
       " 're',\n",
       " 've',\n",
       " 'y',\n",
       " 'ain',\n",
       " 'aren',\n",
       " \"aren't\",\n",
       " 'couldn',\n",
       " \"couldn't\",\n",
       " 'didn',\n",
       " \"didn't\",\n",
       " 'doesn',\n",
       " \"doesn't\",\n",
       " 'hadn',\n",
       " \"hadn't\",\n",
       " 'hasn',\n",
       " \"hasn't\",\n",
       " 'haven',\n",
       " \"haven't\",\n",
       " 'isn',\n",
       " \"isn't\",\n",
       " 'ma',\n",
       " 'mightn',\n",
       " \"mightn't\",\n",
       " 'mustn',\n",
       " \"mustn't\",\n",
       " 'needn',\n",
       " \"needn't\",\n",
       " 'shan',\n",
       " \"shan't\",\n",
       " 'shouldn',\n",
       " \"shouldn't\",\n",
       " 'wasn',\n",
       " \"wasn't\",\n",
       " 'weren',\n",
       " \"weren't\",\n",
       " 'won',\n",
       " \"won't\",\n",
       " 'wouldn',\n",
       " \"wouldn't\"]"
      ]
     },
     "execution_count": 49,
     "metadata": {},
     "output_type": "execute_result"
    }
   ],
   "source": [
    "stopwords.words('english')"
   ]
  },
  {
   "cell_type": "code",
   "execution_count": 73,
   "metadata": {},
   "outputs": [],
   "source": [
    "from nltk.stem.snowball import SnowballStemmer\n",
    "from nltk.corpus import stopwords\n",
    "import re\n",
    "import string\n",
    "\n",
    "\n",
    "stemmer = SnowballStemmer(\"english\")\n",
    "exclude_list =  set(stopwords.words('english'))\n"
   ]
  },
  {
   "cell_type": "code",
   "execution_count": 90,
   "metadata": {},
   "outputs": [],
   "source": [
    "words = Radiology_report.split(' ')\n",
    "words = [stemmer.stem(str(word)) for word in words]\n",
    "newContent = ' '.join([word for word in words if word not in exclude_list])\n",
    "newContent = ''.join([i for i in newContent if not i.isdigit()])\n",
    "newContent = re.sub('['+string.punctuation+']', ' ', newContent)"
   ]
  },
  {
   "cell_type": "code",
   "execution_count": 91,
   "metadata": {},
   "outputs": [
    {
     "data": {
      "text/plain": [
       "2183"
      ]
     },
     "execution_count": 91,
     "metadata": {},
     "output_type": "execute_result"
    }
   ],
   "source": [
    "len(newContent)"
   ]
  },
  {
   "cell_type": "code",
   "execution_count": 92,
   "metadata": {},
   "outputs": [
    {
     "data": {
      "text/plain": [
       "'ct abdomen contrast  triphas liver protocol indication  hepatocellular carcinoma  histori alcohol cirrhosi status post tip placement  comparison     technique  iv administr  ml isovu   helic ct imag abdomen perform axial dure arterial  portal venous  delay phases  coron sagitt reformat imag reviewed  base  cm bodi phantom  estim radiat dose  ctdivol  mgy   seri exam are                 estim cumul dose  dlp  mgy cm   is    note  radiat dose indic ct    volum ct dose index  ctdivol  given milli gray  mgy   dose length product  dlp  given mgy centimet  mgy cm     generat ct scanner estim radiat exposur base technic studi paramet refer phantom  ctdi dlp may therefor substanti over  underestim individu absorb dose base patient size factors   findings  lung base clear  heart size normal  pleural pericardi effusion  abdomen  hepat morpholog suggest cirrhosi demonstrated  includ hypertrophi later segment  widen fissures  mild nodular hepat contour  corkscrew appear hepat arteries  multipl small hypervascular hepat lesion associ delay washout appear essenti unchang diagnost hepatocellular carcinoma context  lesion includ following   mm segment  lesion     mm segment  lesion     mm segment  lesion     mm segment a lesion     follow two lesion clear exhibit washout  like due small size  therefor nonspecif remain concerning  mm segment  lesion     mm segment  lesion     evid vascular invas ani tumors  tip extend distal main portal vein  right portal vein  right hepat vein appear wide patent  major hepat vasculatur appear patent  accessori left hepat arteri demonstrated  gallbladd removed  spleen  pancreas  adren glands  kidney appear normal  imag portion small larg bowel appear normal  abdomin aorta normal cours caliber  major abdomin vasculatur patent  abdomin lymphadenopathy  ascites  free intraperiton air  aggress osseous lesion identifi abdomen  impression    essenti unchang appear  small    mm  hcc lesion detailed  two smaller enhanc lesion also concern nonspecif clear exhibit washout  like due small size    hepat morpholog suggest cirrhosis   summary  poss signific finding  may need actioni person review imag examin agreedwith report transcrib above '"
      ]
     },
     "execution_count": 92,
     "metadata": {},
     "output_type": "execute_result"
    }
   ],
   "source": [
    "newContent"
   ]
  },
  {
   "cell_type": "markdown",
   "metadata": {},
   "source": [
    "## Document segmentation"
   ]
  },
  {
   "cell_type": "markdown",
   "metadata": {},
   "source": [
    "### segment impression section"
   ]
  },
  {
   "cell_type": "code",
   "execution_count": 94,
   "metadata": {},
   "outputs": [
    {
     "data": {
      "text/plain": [
       "' 1. ESSENTIALLY UNCHANGED APPEARANCE OF 4 SMALL (8-10 MM) HCC LESIONS AS DETAILED. TWO SMALLER ENHANCING LESIONS ARE ALSO CONCERNING BUT NONSPECIFIC AS THEY DO NOT AS CLEARLY EXHIBIT WASHOUT, LIKELY DUE TO THEIR SMALL SIZE. 2. HEPATIC MORPHOLOGY SUGGESTIVE OF CIRRHOSIS.  '"
      ]
     },
     "execution_count": 94,
     "metadata": {},
     "output_type": "execute_result"
    }
   ],
   "source": [
    "Radiology_report.split('IMPRESSION:')[1].split('SUMMARY:')[0]"
   ]
  },
  {
   "cell_type": "markdown",
   "metadata": {},
   "source": [
    "### segment finding section"
   ]
  },
  {
   "cell_type": "code",
   "execution_count": 97,
   "metadata": {},
   "outputs": [
    {
     "data": {
      "text/plain": [
       "' Lung bases are clear. Heart size is normal. No pleural or pericardial effusion. ABDOMEN: Hepatic morphology suggestive of cirrhosis is again demonstrated, including hypertrophy of the lateral segment, widening of the fissures, mildly nodular hepatic contour, and corkscrew appearance of the hepatic arteries. Multiple small hypervascular hepatic lesions with associated delayed washout appear essentially unchanged and again are diagnostic of hepatocellular carcinoma in this context. Lesions include the following: 10-mm segment 7 lesion (5:76)9 mm segment 8 lesion (5:64)8-mm segment 2 lesion (5:75)7-mm segment 4a lesion (5:47) The following two lesions do not as clearly exhibit washout, likely due to their small size. They are therefore nonspecific but remain concerning.5-mm segment 5 lesion (5:99)5-mm segment 1 lesion (5:64) There is no evidence of vascular invasion by any of these tumors. The TIPS extending from the distal main portal vein, right portal vein, and right hepatic vein appears widely patent. Major hepatic vasculature appears patent. Accessory left hepatic artery is again demonstrated. The gallbladder has been removed. The spleen, pancreas, adrenal glands, and kidneys appear normal. Imaged portions of small and large bowel appear normal. The abdominal aorta is normal in course and caliber. Major abdominal vasculature is patent. No abdominal lymphadenopathy. No ascites. No free intraperitoneal air. No aggressive osseous lesion is identified in the abdomen. '"
      ]
     },
     "execution_count": 97,
     "metadata": {},
     "output_type": "execute_result"
    }
   ],
   "source": [
    "Radiology_report.split('FINDINGS:')[1].split('IMPRESSION:')[0]"
   ]
  },
  {
   "cell_type": "markdown",
   "metadata": {},
   "source": [
    "## Sentence segmentation"
   ]
  },
  {
   "cell_type": "code",
   "execution_count": 102,
   "metadata": {},
   "outputs": [
    {
     "name": "stdout",
     "output_type": "stream",
     "text": [
      "Sentence0:  Lung bases are clear.\n",
      "Sentence1: Heart size is normal.\n",
      "Sentence2: No pleural or pericardial effusion.\n",
      "Sentence3: ABDOMEN: Hepatic morphology suggestive of cirrhosis is again demonstrated, including hypertrophy of the lateral segment, widening of the fissures, mildly nodular hepatic contour, and corkscrew appearance of the hepatic arteries.\n",
      "Sentence4: Multiple small hypervascular hepatic lesions with associated delayed washout appear essentially unchanged and again are diagnostic of hepatocellular carcinoma in this context.\n",
      "Sentence5: Lesions include the following: 10-mm segment 7 lesion (5:76)9 mm segment 8 lesion (5:64)8-mm segment 2 lesion (5:75)7-mm segment 4a lesion (5:47) The following two lesions do not as clearly exhibit washout, likely due to their small size.\n",
      "Sentence6: They are therefore nonspecific but remain concerning.5-mm segment 5 lesion (5:99)5-mm segment 1 lesion (5:64) There is no evidence of vascular invasion by any of these tumors.\n",
      "Sentence7: The TIPS extending from the distal main portal vein, right portal vein, and right hepatic vein appears widely patent.\n",
      "Sentence8: Major hepatic vasculature appears patent.\n",
      "Sentence9: Accessory left hepatic artery is again demonstrated.\n",
      "Sentence10: The gallbladder has been removed.\n",
      "Sentence11: The spleen, pancreas, adrenal glands, and kidneys appear normal.\n",
      "Sentence12: Imaged portions of small and large bowel appear normal.\n",
      "Sentence13: The abdominal aorta is normal in course and caliber.\n",
      "Sentence14: Major abdominal vasculature is patent.\n",
      "Sentence15: No abdominal lymphadenopathy.\n",
      "Sentence16: No ascites.\n",
      "Sentence17: No free intraperitoneal air.\n",
      "Sentence18: No aggressive osseous lesion is identified in the abdomen.\n"
     ]
    }
   ],
   "source": [
    "from nltk import sent_tokenize\n",
    " \n",
    "sents = sent_tokenize(Radiology_report.split('FINDINGS:')[1].split('IMPRESSION:')[0])\n",
    "\n",
    "for i in range(len(sents)):\n",
    "    print('Sentence'+str(i)+': '+sents[i])"
   ]
  },
  {
   "cell_type": "markdown",
   "metadata": {},
   "source": [
    "## Bag of words"
   ]
  },
  {
   "cell_type": "code",
   "execution_count": 133,
   "metadata": {},
   "outputs": [],
   "source": [
    "from sklearn.feature_extraction.text import CountVectorizer\n",
    "\n",
    "vectorizer = CountVectorizer()\n",
    "X = vectorizer.fit_transform(sents[10:20])\n"
   ]
  },
  {
   "cell_type": "code",
   "execution_count": 134,
   "metadata": {},
   "outputs": [
    {
     "name": "stdout",
     "output_type": "stream",
     "text": [
      "['abdomen', 'abdominal', 'adrenal', 'aggressive', 'air', 'and', 'aorta', 'appear', 'ascites', 'been', 'bowel', 'caliber', 'course', 'free', 'gallbladder', 'glands', 'has', 'identified', 'imaged', 'in', 'intraperitoneal', 'is', 'kidneys', 'large', 'lesion', 'lymphadenopathy', 'major', 'no', 'normal', 'of', 'osseous', 'pancreas', 'patent', 'portions', 'removed', 'small', 'spleen', 'the', 'vasculature']\n"
     ]
    }
   ],
   "source": [
    "print(vectorizer.get_feature_names())"
   ]
  },
  {
   "cell_type": "code",
   "execution_count": 135,
   "metadata": {},
   "outputs": [
    {
     "name": "stdout",
     "output_type": "stream",
     "text": [
      "[[0 0 0 0 0 0 0 0 0 1 0 0 0 0 1 0 1 0 0 0 0 0 0 0 0 0 0 0 0 0 0 0 0 0 1 0\n",
      "  0 1 0]\n",
      " [0 0 1 0 0 1 0 1 0 0 0 0 0 0 0 1 0 0 0 0 0 0 1 0 0 0 0 0 1 0 0 1 0 0 0 0\n",
      "  1 1 0]\n",
      " [0 0 0 0 0 1 0 1 0 0 1 0 0 0 0 0 0 0 1 0 0 0 0 1 0 0 0 0 1 1 0 0 0 1 0 1\n",
      "  0 0 0]\n",
      " [0 1 0 0 0 1 1 0 0 0 0 1 1 0 0 0 0 0 0 1 0 1 0 0 0 0 0 0 1 0 0 0 0 0 0 0\n",
      "  0 1 0]\n",
      " [0 1 0 0 0 0 0 0 0 0 0 0 0 0 0 0 0 0 0 0 0 1 0 0 0 0 1 0 0 0 0 0 1 0 0 0\n",
      "  0 0 1]\n",
      " [0 1 0 0 0 0 0 0 0 0 0 0 0 0 0 0 0 0 0 0 0 0 0 0 0 1 0 1 0 0 0 0 0 0 0 0\n",
      "  0 0 0]\n",
      " [0 0 0 0 0 0 0 0 1 0 0 0 0 0 0 0 0 0 0 0 0 0 0 0 0 0 0 1 0 0 0 0 0 0 0 0\n",
      "  0 0 0]\n",
      " [0 0 0 0 1 0 0 0 0 0 0 0 0 1 0 0 0 0 0 0 1 0 0 0 0 0 0 1 0 0 0 0 0 0 0 0\n",
      "  0 0 0]\n",
      " [1 0 0 1 0 0 0 0 0 0 0 0 0 0 0 0 0 1 0 1 0 1 0 0 1 0 0 1 0 0 1 0 0 0 0 0\n",
      "  0 1 0]]\n"
     ]
    }
   ],
   "source": [
    "print(X.toarray())"
   ]
  },
  {
   "cell_type": "markdown",
   "metadata": {},
   "source": [
    "### first sentence"
   ]
  },
  {
   "cell_type": "code",
   "execution_count": 137,
   "metadata": {},
   "outputs": [
    {
     "data": {
      "text/plain": [
       "'The gallbladder has been removed.'"
      ]
     },
     "execution_count": 137,
     "metadata": {},
     "output_type": "execute_result"
    }
   ],
   "source": [
    "sents[10]"
   ]
  },
  {
   "cell_type": "markdown",
   "metadata": {},
   "source": [
    "### it's vector representation"
   ]
  },
  {
   "cell_type": "code",
   "execution_count": 138,
   "metadata": {},
   "outputs": [
    {
     "data": {
      "text/plain": [
       "array([[0, 0, 0, 0, 0, 0, 0, 0, 0, 1, 0, 0, 0, 0, 1, 0, 1, 0, 0, 0, 0, 0,\n",
       "        0, 0, 0, 0, 0, 0, 0, 0, 0, 0, 0, 0, 1, 0, 0, 1, 0]], dtype=int64)"
      ]
     },
     "execution_count": 138,
     "metadata": {},
     "output_type": "execute_result"
    }
   ],
   "source": [
    "X[0].toarray()"
   ]
  },
  {
   "cell_type": "markdown",
   "metadata": {},
   "source": [
    "## Information extraction"
   ]
  },
  {
   "cell_type": "code",
   "execution_count": 113,
   "metadata": {},
   "outputs": [
    {
     "data": {
      "text/plain": [
       "\"CT Abdomen with contrast, Triphasic Liver Protocol INDICATION: Hepatocellular carcinoma. History of alcoholic cirrhosis status post TIPS placement. COMPARISON: 4/10/2013 TECHNIQUE: After IV administration of 86 ml of Isovue 370, helical CT imaging of the abdomen was performed axially during the arterial, portal venous, and delayed phases. Coronal and sagittal reformatted images were reviewed. Based on a 32-cm body phantom, the estimated radiation dose (CTDIvol [mGy]) for each series in this exam are: 1.99, 11.95, 6.47, 6.43, 6.50. The estimated cumulative dose (DLP [mGy-cm]) is: 512. NOTE: The radiation dose indicators for CT -- the 'volume CT Dose Index' (CTDIvol) given in milli-Gray (mGy), and the Dose Length Product (DLP) given in mGy-centimeters (mGy.cm) -- are generated from the CT scanner to estimate radiation exposure based on technical study parameters and a reference phantom. The CTDI and DLP may therefore substantially over- or underestimate an individual's absorbed dose based on patient size and other factors.  FINDINGS: Lung bases are clear. Heart size is normal. No pleural or pericardial effusion. ABDOMEN: Hepatic morphology suggestive of cirrhosis is again demonstrated, including hypertrophy of the lateral segment, widening of the fissures, mildly nodular hepatic contour, and corkscrew appearance of the hepatic arteries. Multiple small hypervascular hepatic lesions with associated delayed washout appear essentially unchanged and again are diagnostic of hepatocellular carcinoma in this context. Lesions include the following: 10-mm segment 7 lesion (5:76)9 mm segment 8 lesion (5:64)8-mm segment 2 lesion (5:75)7-mm segment 4a lesion (5:47) The following two lesions do not as clearly exhibit washout, likely due to their small size. They are therefore nonspecific but remain concerning.5-mm segment 5 lesion (5:99)5-mm segment 1 lesion (5:64) There is no evidence of vascular invasion by any of these tumors. The TIPS extending from the distal main portal vein, right portal vein, and right hepatic vein appears widely patent. Major hepatic vasculature appears patent. Accessory left hepatic artery is again demonstrated. The gallbladder has been removed. The spleen, pancreas, adrenal glands, and kidneys appear normal. Imaged portions of small and large bowel appear normal. The abdominal aorta is normal in course and caliber. Major abdominal vasculature is patent. No abdominal lymphadenopathy. No ascites. No free intraperitoneal air. No aggressive osseous lesion is identified in the abdomen. IMPRESSION: 1. ESSENTIALLY UNCHANGED APPEARANCE OF 4 SMALL (8-10 MM) HCC LESIONS AS DETAILED. TWO SMALLER ENHANCING LESIONS ARE ALSO CONCERNING BUT NONSPECIFIC AS THEY DO NOT AS CLEARLY EXHIBIT WASHOUT, LIKELY DUE TO THEIR SMALL SIZE. 2. HEPATIC MORPHOLOGY SUGGESTIVE OF CIRRHOSIS.  SUMMARY:4-POSSIBLY SIGNIFICANT FINDING, MAY NEED ACTIONI have personally reviewed the images for this examination and agreedwith the report transcribed above.\""
      ]
     },
     "execution_count": 113,
     "metadata": {},
     "output_type": "execute_result"
    }
   ],
   "source": [
    "Radiology_report"
   ]
  },
  {
   "cell_type": "markdown",
   "metadata": {},
   "source": [
    "### get all the measurements"
   ]
  },
  {
   "cell_type": "code",
   "execution_count": 114,
   "metadata": {},
   "outputs": [],
   "source": [
    "re1='(\\\\d+)'\t# Integer Number 1\n",
    "re2='(.)'\t# Any Single Character 1\n",
    "re3='(mm)'\t# Word 1\n",
    "\n",
    "measurement1 = re.compile(re1+re2+re3,re.DOTALL)\n",
    "M1 = re.findall(measurement1, Radiology_report)"
   ]
  },
  {
   "cell_type": "code",
   "execution_count": 115,
   "metadata": {},
   "outputs": [
    {
     "data": {
      "text/plain": [
       "[('10', '-', 'mm'),\n",
       " ('9', ' ', 'mm'),\n",
       " ('8', '-', 'mm'),\n",
       " ('7', '-', 'mm'),\n",
       " ('5', '-', 'mm'),\n",
       " ('5', '-', 'mm')]"
      ]
     },
     "execution_count": 115,
     "metadata": {},
     "output_type": "execute_result"
    }
   ],
   "source": [
    "M1"
   ]
  },
  {
   "cell_type": "code",
   "execution_count": null,
   "metadata": {},
   "outputs": [],
   "source": []
  }
 ],
 "metadata": {
  "kernelspec": {
   "display_name": "Python 3",
   "language": "python",
   "name": "python3"
  },
  "language_info": {
   "codemirror_mode": {
    "name": "ipython",
    "version": 3
   },
   "file_extension": ".py",
   "mimetype": "text/x-python",
   "name": "python",
   "nbconvert_exporter": "python",
   "pygments_lexer": "ipython3",
   "version": "3.5.4"
  }
 },
 "nbformat": 4,
 "nbformat_minor": 2
}
